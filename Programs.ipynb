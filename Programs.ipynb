{
 "cells": [
  {
   "cell_type": "code",
   "execution_count": 2,
   "id": "85695611",
   "metadata": {},
   "outputs": [
    {
     "name": "stdout",
     "output_type": "stream",
     "text": [
      "Enter 1st number : 7\n",
      "Enter 2nd number : 1\n",
      "Enter 3rd number : 7\n",
      "7\n"
     ]
    }
   ],
   "source": [
    "n1=int(input(\"Enter 1st number : \"))\n",
    "n2=int(input(\"Enter 2nd number : \"))\n",
    "n3=int(input(\"Enter 3rd number : \"))\n",
    "if n1==7:\n",
    "       print(n2*n3)\n",
    "elif n2==7:\n",
    "    print(n3)\n",
    "elif n3==7:\n",
    "    print(\"-1\")\n",
    "else :\n",
    "    print(n1*n2*n3)"
   ]
  },
  {
   "cell_type": "code",
   "execution_count": 4,
   "id": "ad1c3a4f",
   "metadata": {},
   "outputs": [],
   "source": [
    "#Euro = 0.01417\n",
    "#British Pound = 0.0100\n",
    "#Ast Dollar = 0.02140\n",
    "#Can Dollar = 0.02027"
   ]
  },
  {
   "cell_type": "code",
   "execution_count": null,
   "id": "04ada5e5",
   "metadata": {},
   "outputs": [],
   "source": [
    "def cc(amINR,curr):\n",
    "    if curr==\"Euro\":\n",
    "        print(amINR*0.01417)\n",
    "    elif curr ==\"BP\":\n",
    "        print(amINR*0.0100)\n",
    "    elif curr==\"AD\":\n",
    "        print(amINR*0.02140)\n",
    "    elif curr==\"CD\":\n",
    "        print(amINR*0.02027)\n",
    "    else:\n",
    "        print(\"-1\")\n",
    "cc(300,\"Euro\")\n",
    "cc(300,\"BP\")\n",
    "cc(300,\"AD\")\n",
    "cc(300,\"CD\")"
   ]
  },
  {
   "cell_type": "code",
   "execution_count": null,
   "id": "80f85c60",
   "metadata": {},
   "outputs": [],
   "source": []
  }
 ],
 "metadata": {
  "kernelspec": {
   "display_name": "Python 3 (ipykernel)",
   "language": "python",
   "name": "python3"
  },
  "language_info": {
   "codemirror_mode": {
    "name": "ipython",
    "version": 3
   },
   "file_extension": ".py",
   "mimetype": "text/x-python",
   "name": "python",
   "nbconvert_exporter": "python",
   "pygments_lexer": "ipython3",
   "version": "3.9.7"
  }
 },
 "nbformat": 4,
 "nbformat_minor": 5
}
